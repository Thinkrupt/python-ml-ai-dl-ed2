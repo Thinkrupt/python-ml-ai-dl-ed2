{
 "cells": [
  {
   "cell_type": "code",
   "execution_count": null,
   "id": "4e9a4d57",
   "metadata": {},
   "outputs": [],
   "source": [
    "from langchain.agents import initialize_agent, Tool\n",
    "from langchain.tools import tool\n",
    "from langchain.llms import OpenAI\n",
    "\n",
    "@tool\n",
    "def search_docs(query: str) -> str:\n",
    "    result = index.query(\n",
    "        vector=openai.Embedding.create(input=[query], model=\"text-embedding-ada-002\")['data'][0]['embedding'],\n",
    "        top_k=1\n",
    "    )\n",
    "    return result\n",
    "\n",
    "tools = [Tool(name=\"Vector Search\", func=search_docs, description=\"Search relevant docs\")]\n",
    "agent = initialize_agent(tools, OpenAI(temperature=0), agent=\"zero-shot-react-description\", verbose=True)\n",
    "\n",
    "result = agent.run(\"Find notes about AGI\")\n",
    "print(result)\n"
   ]
  }
 ],
 "metadata": {
  "language_info": {
   "name": "python"
  }
 },
 "nbformat": 4,
 "nbformat_minor": 5
}
