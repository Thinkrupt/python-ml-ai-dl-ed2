{
 "cells": [
  {
   "cell_type": "code",
   "execution_count": null,
   "id": "8b9f5b9c",
   "metadata": {},
   "outputs": [],
   "source": [
    "from ariadne import QueryType, make_executable_schema\n",
    "from ariadne.asgi import GraphQL\n",
    "from langchain.chat_models import ChatOpenAI\n",
    "\n",
    "query = QueryType()\n",
    "llm = ChatOpenAI()\n",
    "\n",
    "@query.field(\"ask\")\n",
    "def resolve_ask(_, info, question):\n",
    "    return llm.predict(question)\n",
    "\n",
    "type_defs = \"\"\"\n",
    "type Query {\n",
    "  ask(question: String!): String!\n",
    "}\n",
    "\"\"\"\n",
    "\n",
    "schema = make_executable_schema(type_defs, query)\n",
    "app = GraphQL(schema, debug=True)\n"
   ]
  }
 ],
 "metadata": {
  "language_info": {
   "name": "python"
  }
 },
 "nbformat": 4,
 "nbformat_minor": 5
}
