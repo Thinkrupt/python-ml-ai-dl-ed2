{
 "cells": [
  {
   "cell_type": "code",
   "execution_count": null,
   "id": "97e1777c",
   "metadata": {},
   "outputs": [],
   "source": [
    "from langgraph.graph import StateGraph\n",
    "from langchain.chat_models import ChatOpenAI\n",
    "from langchain.prompts import ChatPromptTemplate\n",
    "\n",
    "prompt = ChatPromptTemplate.from_template(\"You're an agent: {input}\")\n",
    "llm = ChatOpenAI()\n",
    "\n",
    "graph = StateGraph.from_nodes([\n",
    "    {\"id\": \"start\", \"task\": lambda x: prompt.format_messages(input=x[\"input\"])},\n",
    "    {\"id\": \"reason\", \"task\": llm}\n",
    "])\n",
    "graph.set_entry_point(\"start\")\n",
    "print(graph.run({\"input\": \"Give me the capital and currency of Japan\"}))\n"
   ]
  }
 ],
 "metadata": {
  "language_info": {
   "name": "python"
  }
 },
 "nbformat": 4,
 "nbformat_minor": 5
}
