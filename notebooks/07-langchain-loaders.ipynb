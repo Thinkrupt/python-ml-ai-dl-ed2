{
 "cells": [
  {
   "cell_type": "code",
   "execution_count": null,
   "id": "7dd5b254",
   "metadata": {},
   "outputs": [],
   "source": [
    "from langchain.document_loaders import TextLoader\n",
    "from langchain.text_splitter import RecursiveCharacterTextSplitter\n",
    "\n",
    "loader = TextLoader(\"data/ai_notes.txt\")\n",
    "docs = loader.load()\n",
    "\n",
    "splitter = RecursiveCharacterTextSplitter(chunk_size=500, chunk_overlap=50)\n",
    "splits = splitter.split_documents(docs)\n",
    "\n",
    "print(\"Total Chunks:\", len(splits))\n",
    "print(\"Sample Chunk:\", splits[0].page_content[:200])\n"
   ]
  }
 ],
 "metadata": {
  "language_info": {
   "name": "python"
  }
 },
 "nbformat": 4,
 "nbformat_minor": 5
}
