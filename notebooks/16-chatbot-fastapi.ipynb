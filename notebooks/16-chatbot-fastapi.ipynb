{
 "cells": [
  {
   "cell_type": "code",
   "execution_count": null,
   "id": "538cec31",
   "metadata": {},
   "outputs": [],
   "source": [
    "# ✨ Custom Chatbot with FastAPI + Gradio + LangChain\n",
    "\n",
    "from fastapi import FastAPI, Request\n",
    "import gradio as gr\n",
    "import uvicorn\n",
    "from langchain.chat_models import ChatOpenAI\n",
    "\n",
    "# Initialize LangChain model (can be replaced with local LLM later)\n",
    "llm = ChatOpenAI(temperature=0.7)\n",
    "\n",
    "# --- FastAPI App ---\n",
    "app = FastAPI()\n",
    "\n",
    "@app.post(\"/chat\")\n",
    "async def chat_endpoint(request: Request):\n",
    "    data = await request.json()\n",
    "    user_input = data.get(\"message\", \"\")\n",
    "    reply = llm.predict(user_input)\n",
    "    return {\"response\": reply}\n",
    "\n",
    "\n",
    "# --- Gradio Chat Interface ---\n",
    "def chat_gradio(user_input):\n",
    "    return llm.predict(user_input)\n",
    "\n",
    "chat_ui = gr.Interface(\n",
    "    fn=chat_gradio,\n",
    "    inputs=gr.Textbox(lines=2, placeholder=\"Ask something...\"),\n",
    "    outputs=\"text\",\n",
    "    title=\"🧠 LangChain Chatbot\",\n",
    "    description=\"Ask the assistant anything!\"\n",
    ")\n",
    "\n",
    "\n",
    "# --- Combine Gradio & FastAPI ---\n",
    "@app.get(\"/\")\n",
    "def root():\n",
    "    return {\"message\": \"LangChain Chatbot is running!\"}\n",
    "\n",
    "def launch_all():\n",
    "    print(\"▶️ Launching chatbot UI...\")\n",
    "    chat_ui.launch(share=True)  # opens public link\n",
    "\n",
    "# --- Run if script is main ---\n",
    "if __name__ == \"__main__\":\n",
    "    # You can either run FastAPI server:\n",
    "    # uvicorn.run(\"chatbot:app\", host=\"0.0.0.0\", port=8000, reload=True)\n",
    "\n",
    "    # OR run Gradio directly (recommended for local testing)\n",
    "    launch_all()\n"
   ]
  },
  {
   "cell_type": "code",
   "execution_count": null,
   "id": "c91f348b",
   "metadata": {},
   "outputs": [],
   "source": []
  }
 ],
 "metadata": {
  "language_info": {
   "name": "python"
  }
 },
 "nbformat": 4,
 "nbformat_minor": 5
}
