{
 "cells": [
  {
   "cell_type": "code",
   "execution_count": null,
   "id": "f3ade36d",
   "metadata": {},
   "outputs": [],
   "source": [
    "from langchain.document_loaders import PyPDFLoader\n",
    "from langchain.text_splitter import RecursiveCharacterTextSplitter\n",
    "from langchain.vectorstores import FAISS\n",
    "from langchain.embeddings import OpenAIEmbeddings\n",
    "from langchain.chains import RetrievalQA\n",
    "from langchain.chat_models import ChatOpenAI\n",
    "\n",
    "pdf_paths = [\"data/file1.pdf\", \"data/file2.pdf\"]\n",
    "docs = [PyPDFLoader(p).load() for p in pdf_paths]\n",
    "all_docs = [item for sublist in docs for item in sublist]\n",
    "\n",
    "splitter = RecursiveCharacterTextSplitter(chunk_size=500, chunk_overlap=50)\n",
    "texts = splitter.split_documents(all_docs)\n",
    "\n",
    "vectorstore = FAISS.from_documents(texts, OpenAIEmbeddings())\n",
    "qa = RetrievalQA.from_chain_type(llm=ChatOpenAI(), retriever=vectorstore.as_retriever())\n",
    "\n",
    "print(qa.run(\"Summarize key findings in the PDFs\"))\n"
   ]
  }
 ],
 "metadata": {
  "language_info": {
   "name": "python"
  }
 },
 "nbformat": 4,
 "nbformat_minor": 5
}
