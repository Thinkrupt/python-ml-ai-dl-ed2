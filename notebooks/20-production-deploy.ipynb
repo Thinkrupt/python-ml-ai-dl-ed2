{
 "cells": [
  {
   "cell_type": "code",
   "execution_count": null,
   "id": "5dc25dde",
   "metadata": {},
   "outputs": [],
   "source": [
    "from fastapi import FastAPI, Request\n",
    "from langchain.chat_models import ChatOpenAI\n",
    "\n",
    "app = FastAPI()\n",
    "llm = ChatOpenAI()\n",
    "\n",
    "@app.post(\"/ask\")\n",
    "async def ask(request: Request):\n",
    "    data = await request.json()\n",
    "    prompt = data.get(\"query\", \"\")\n",
    "    answer = llm.predict(prompt)\n",
    "    return {\"response\": answer}\n"
   ]
  }
 ],
 "metadata": {
  "language_info": {
   "name": "python"
  }
 },
 "nbformat": 4,
 "nbformat_minor": 5
}
