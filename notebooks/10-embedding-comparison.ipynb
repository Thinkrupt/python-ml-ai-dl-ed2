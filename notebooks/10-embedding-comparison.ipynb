{
 "cells": [
  {
   "cell_type": "code",
   "execution_count": null,
   "id": "81722d9d",
   "metadata": {},
   "outputs": [],
   "source": [
    "from sentence_transformers import SentenceTransformer\n",
    "from openai import OpenAIEmbeddings\n",
    "from cohere import Client as CohereClient\n",
    "\n",
    "sentences = [\"AI is amazing.\", \"I love transformers!\", \"Cohere is cool.\"]\n",
    "\n",
    "# OpenAI\n",
    "openai_embed = OpenAIEmbeddings()\n",
    "openai_vectors = openai_embed.embed_documents(sentences)\n",
    "\n",
    "# Cohere\n",
    "cohere = CohereClient(\"your-api-key\")\n",
    "cohere_vectors = cohere.embed(texts=sentences).embeddings\n",
    "\n",
    "# HuggingFace\n",
    "hf_model = SentenceTransformer('all-MiniLM-L6-v2')\n",
    "hf_vectors = hf_model.encode(sentences)\n",
    "\n",
    "# Cosine Similarity Check\n",
    "from sklearn.metrics.pairwise import cosine_similarity\n",
    "similarity_matrix = cosine_similarity(openai_vectors, hf_vectors)\n",
    "print(similarity_matrix)\n"
   ]
  }
 ],
 "metadata": {
  "language_info": {
   "name": "python"
  }
 },
 "nbformat": 4,
 "nbformat_minor": 5
}
