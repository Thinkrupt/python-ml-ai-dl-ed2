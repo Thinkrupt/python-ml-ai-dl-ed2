{
 "cells": [
  {
   "cell_type": "code",
   "execution_count": null,
   "id": "d8b1aee4",
   "metadata": {},
   "outputs": [],
   "source": [
    "# 05_pinecone_usage.py\n",
    "\n",
    "import os\n",
    "import pinecone\n",
    "from sentence_transformers import SentenceTransformer\n",
    "\n",
    "pinecone.init(api_key=os.getenv(\"PINECONE_API_KEY\"), environment=\"us-west1-gcp\")\n",
    "model = SentenceTransformer(\"all-MiniLM-L6-v2\")\n",
    "\n",
    "index_name = \"demo-index\"\n",
    "if index_name not in pinecone.list_indexes():\n",
    "    pinecone.create_index(index_name, dimension=model.get_sentence_embedding_dimension())\n",
    "\n",
    "index = pinecone.Index(index_name)\n",
    "\n",
    "data = {\n",
    "    \"doc1\": model.encode(\"AI will change everything\").tolist(),\n",
    "    \"doc2\": model.encode(\"LLMs are great for text generation\").tolist()\n",
    "}\n",
    "index.upsert(list(data.items()))\n",
    "\n",
    "query = model.encode(\"Tell me about LLMs\").tolist()\n",
    "res = index.query([query], top_k=2, include_metadata=False)\n",
    "print(res)\n"
   ]
  }
 ],
 "metadata": {
  "language_info": {
   "name": "python"
  }
 },
 "nbformat": 4,
 "nbformat_minor": 5
}
