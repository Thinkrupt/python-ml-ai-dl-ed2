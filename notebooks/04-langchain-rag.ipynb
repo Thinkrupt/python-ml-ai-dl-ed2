{
 "cells": [
  {
   "cell_type": "code",
   "execution_count": null,
   "id": "0165d44d",
   "metadata": {},
   "outputs": [],
   "source": [
    "# 04_langchain_rag.py\n",
    "\n",
    "import os\n",
    "from langchain.llms import OpenAI\n",
    "from langchain.embeddings import OpenAIEmbeddings\n",
    "from langchain.vectorstores import Pinecone\n",
    "from langchain.chains import RetrievalQA\n",
    "\n",
    "import pinecone\n",
    "\n",
    "pinecone.init(api_key=os.getenv(\"PINECONE_API_KEY\"), environment=\"us-west1-gcp\")\n",
    "index = Pinecone.from_texts(\n",
    "    [\"Hello world.\", \"Machine Learning is awesome.\"],\n",
    "    embedding=OpenAIEmbeddings(),\n",
    "    index_name=\"example-index\"\n",
    ")\n",
    "\n",
    "qa = RetrievalQA.from_chain_type(\n",
    "    llm=OpenAI(model_name=\"gpt-3.5-turbo\"),\n",
    "    chain_type=\"stuff\",\n",
    "    retriever=index.as_retriever()\n",
    ")\n",
    "\n",
    "print(qa.run(\"What is machine learning?\"))\n"
   ]
  }
 ],
 "metadata": {
  "language_info": {
   "name": "python"
  }
 },
 "nbformat": 4,
 "nbformat_minor": 5
}
