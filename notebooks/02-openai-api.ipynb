{
 "cells": [
  {
   "cell_type": "code",
   "execution_count": null,
   "id": "25f47be5",
   "metadata": {},
   "outputs": [],
   "source": [
    "# 02-openai-api.py\n",
    "\n",
    "import os\n",
    "from openai import OpenAI\n",
    "from sentence_transformers import SentenceTransformer\n",
    "\n",
    "client = OpenAI(api_key=os.getenv(\"OPENAI_API_KEY\"))\n",
    "\n",
    "# Chat completion\n",
    "resp = client.chat.completions.create(\n",
    "    model=\"gpt-3.5-turbo\",\n",
    "    messages=[{\"role\":\"user\",\"content\":\"Explain RAG pipelines.\"}]\n",
    ")\n",
    "print(\"Response:\", resp.choices[0].message.content)\n",
    "\n",
    "# Embedding\n",
    "texts = [\"OpenAI develops powerful LLMs.\", \"Pinecone is a vector database.\"]\n",
    "response_emb = client.embeddings.create(input=texts, model=\"text-embedding-ada-002\")\n",
    "print(\"Embeddings shape:\", len(response_emb.data[0].embedding))\n",
    "\n",
    "# Sentence-Transformers for comparison\n",
    "sbert = SentenceTransformer(\"all-MiniLM-L6-v2\")\n",
    "print(\"SBERT embed vector size:\", sbert.encode(\"Hello AI\").shape)\n"
   ]
  }
 ],
 "metadata": {
  "language_info": {
   "name": "python"
  }
 },
 "nbformat": 4,
 "nbformat_minor": 5
}
