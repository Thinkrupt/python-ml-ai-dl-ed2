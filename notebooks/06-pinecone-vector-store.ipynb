{
 "cells": [
  {
   "cell_type": "code",
   "execution_count": null,
   "id": "098cbb1f",
   "metadata": {},
   "outputs": [],
   "source": [
    "import pinecone\n",
    "import openai\n",
    "\n",
    "openai.api_key = \"sk-...\"\n",
    "pinecone.init(api_key=\"your-pinecone-api-key\", environment=\"gcp-starter\")\n",
    "\n",
    "index = pinecone.Index(\"openai-demo\")\n",
    "\n",
    "# Create embeddings\n",
    "text = \"Artificial Intelligence is powerful.\"\n",
    "embed = openai.Embedding.create(\n",
    "    input=[text],\n",
    "    model=\"text-embedding-ada-002\"\n",
    ")['data'][0]['embedding']\n",
    "\n",
    "# Upsert into Pinecone\n",
    "index.upsert([(\"ai-1\", embed)])\n",
    "\n",
    "# Querying similar texts\n",
    "query = openai.Embedding.create(input=[\"Explain AI\"], model=\"text-embedding-ada-002\")['data'][0]['embedding']\n",
    "results = index.query(query, top_k=3, include_metadata=True)\n",
    "print(results)\n"
   ]
  }
 ],
 "metadata": {
  "language_info": {
   "name": "python"
  }
 },
 "nbformat": 4,
 "nbformat_minor": 5
}
