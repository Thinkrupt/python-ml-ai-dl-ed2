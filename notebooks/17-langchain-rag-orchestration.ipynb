{
 "cells": [
  {
   "cell_type": "code",
   "execution_count": null,
   "id": "33444941",
   "metadata": {},
   "outputs": [],
   "source": [
    "from langchain.agents import initialize_agent, Tool\n",
    "from langchain.chat_models import ChatOpenAI\n",
    "from langchain.vectorstores import FAISS\n",
    "from langchain.embeddings import OpenAIEmbeddings\n",
    "\n",
    "# Simulated knowledge base\n",
    "texts = [\"Zebras are wild animals from Africa.\", \"LLMs can answer complex questions.\"]\n",
    "db = FAISS.from_texts(texts, OpenAIEmbeddings())\n",
    "retriever = db.as_retriever()\n",
    "\n",
    "tool = Tool(name=\"ZebraTool\", func=lambda q: retriever.get_relevant_documents(q), description=\"Search DB\")\n",
    "\n",
    "agent = initialize_agent(tools=[tool], llm=ChatOpenAI(), agent=\"zero-shot-react-description\")\n",
    "print(agent.run(\"What do you know about zebras?\"))\n"
   ]
  }
 ],
 "metadata": {
  "language_info": {
   "name": "python"
  }
 },
 "nbformat": 4,
 "nbformat_minor": 5
}
